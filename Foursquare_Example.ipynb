{
  "nbformat": 4,
  "nbformat_minor": 0,
  "metadata": {
    "colab": {
      "name": "Foursquare Example.ipynb",
      "provenance": [],
      "collapsed_sections": [],
      "include_colab_link": true
    },
    "kernelspec": {
      "name": "python3",
      "display_name": "Python 3"
    }
  },
  "cells": [
    {
      "cell_type": "markdown",
      "metadata": {
        "id": "view-in-github",
        "colab_type": "text"
      },
      "source": [
        "<a href=\"https://colab.research.google.com/github/fnfloresr/Capstone-Repository/blob/main/Foursquare_Example.ipynb\" target=\"_parent\"><img src=\"https://colab.research.google.com/assets/colab-badge.svg\" alt=\"Open In Colab\"/></a>"
      ]
    },
    {
      "cell_type": "markdown",
      "metadata": {
        "id": "0Mu9avJAkogD"
      },
      "source": [
        "Example 1"
      ]
    },
    {
      "cell_type": "code",
      "metadata": {
        "id": "FXHWZecI3PKx"
      },
      "source": [
        "import requests\n",
        "import pandas as pd \n",
        "import numpy as np\n",
        "import random"
      ],
      "execution_count": 1,
      "outputs": []
    },
    {
      "cell_type": "code",
      "metadata": {
        "colab": {
          "base_uri": "https://localhost:8080/"
        },
        "id": "nnzE5rSX3Wsa",
        "outputId": "c131557a-15a1-4e45-b2f2-c0306c943e10"
      },
      "source": [
        "! pip install geopy"
      ],
      "execution_count": 2,
      "outputs": [
        {
          "output_type": "stream",
          "text": [
            "Requirement already satisfied: geopy in /usr/local/lib/python3.6/dist-packages (1.17.0)\n",
            "Requirement already satisfied: geographiclib<2,>=1.49 in /usr/local/lib/python3.6/dist-packages (from geopy) (1.50)\n"
          ],
          "name": "stdout"
        }
      ]
    },
    {
      "cell_type": "code",
      "metadata": {
        "id": "Df9-7kjo3aYq"
      },
      "source": [
        "from geopy.geocoders import Nominatim"
      ],
      "execution_count": 3,
      "outputs": []
    },
    {
      "cell_type": "code",
      "metadata": {
        "id": "AswwVSfi3h5C"
      },
      "source": [
        "from IPython.display import Image\n",
        "from IPython.core.display import HTML"
      ],
      "execution_count": 4,
      "outputs": []
    },
    {
      "cell_type": "code",
      "metadata": {
        "id": "GQ34BxRp3wDa"
      },
      "source": [
        "from pandas.io.json import json_normalize"
      ],
      "execution_count": 5,
      "outputs": []
    },
    {
      "cell_type": "code",
      "metadata": {
        "colab": {
          "base_uri": "https://localhost:8080/"
        },
        "id": "ajrBbk4W32Zb",
        "outputId": "5497d1b4-bc6e-43fb-f4fe-b94f9f6e5a79"
      },
      "source": [
        "! pip install folium\n",
        "print('')\n",
        "print('ok')"
      ],
      "execution_count": 6,
      "outputs": [
        {
          "output_type": "stream",
          "text": [
            "Requirement already satisfied: folium in /usr/local/lib/python3.6/dist-packages (0.8.3)\n",
            "Requirement already satisfied: six in /usr/local/lib/python3.6/dist-packages (from folium) (1.15.0)\n",
            "Requirement already satisfied: numpy in /usr/local/lib/python3.6/dist-packages (from folium) (1.19.5)\n",
            "Requirement already satisfied: jinja2 in /usr/local/lib/python3.6/dist-packages (from folium) (2.11.3)\n",
            "Requirement already satisfied: requests in /usr/local/lib/python3.6/dist-packages (from folium) (2.23.0)\n",
            "Requirement already satisfied: branca>=0.3.0 in /usr/local/lib/python3.6/dist-packages (from folium) (0.4.2)\n",
            "Requirement already satisfied: MarkupSafe>=0.23 in /usr/local/lib/python3.6/dist-packages (from jinja2->folium) (1.1.1)\n",
            "Requirement already satisfied: idna<3,>=2.5 in /usr/local/lib/python3.6/dist-packages (from requests->folium) (2.10)\n",
            "Requirement already satisfied: certifi>=2017.4.17 in /usr/local/lib/python3.6/dist-packages (from requests->folium) (2020.12.5)\n",
            "Requirement already satisfied: urllib3!=1.25.0,!=1.25.1,<1.26,>=1.21.1 in /usr/local/lib/python3.6/dist-packages (from requests->folium) (1.24.3)\n",
            "Requirement already satisfied: chardet<4,>=3.0.2 in /usr/local/lib/python3.6/dist-packages (from requests->folium) (3.0.4)\n",
            "\n",
            "ok\n"
          ],
          "name": "stdout"
        }
      ]
    },
    {
      "cell_type": "code",
      "metadata": {
        "id": "pwBqiJZB3_ui"
      },
      "source": [
        "asa = \"2-6-7 Asakusa, Tokyo, 111-0032, Japan\"\n",
        "shin = \"1-20-2 Shinjuku, Shinjuku-ku, Tokyo, 160-0021, Japan\""
      ],
      "execution_count": 18,
      "outputs": []
    },
    {
      "cell_type": "code",
      "metadata": {
        "id": "9ocysIw74L7E"
      },
      "source": [
        "geolocator = Nominatim(user_agent=\"foursquare_agent\")"
      ],
      "execution_count": 19,
      "outputs": []
    },
    {
      "cell_type": "code",
      "metadata": {
        "colab": {
          "base_uri": "https://localhost:8080/"
        },
        "id": "45pwaCmS4VH1",
        "outputId": "d89116f1-4fdf-493f-cf52-8eb036b2840a"
      },
      "source": [
        "location_asa = geolocator.geocode(asa)\n",
        "location_shin = geolocator.geocode(shin)\n",
        "\n",
        "print(location_asa.latitude, location_asa.longitude)\n",
        "print(location_shin.latitude, location_shin.longitude)\n"
      ],
      "execution_count": 20,
      "outputs": [
        {
          "output_type": "stream",
          "text": [
            "35.7175966 139.7975626\n",
            "35.695363650000004 139.70203138222908\n"
          ],
          "name": "stdout"
        }
      ]
    },
    {
      "cell_type": "code",
      "metadata": {
        "id": "Yq9y8uY270Gz"
      },
      "source": [
        "CLIENT_ID = '1W4IK1UUMFLM1T3DZ1URW0I15Z01VX4KXVUKLEYWWXWBKTA'\n",
        "CLIENT_SECRET = 'AJQEN2I3VPN3AVVS1DMAIR4J05TVJZEQ51UQYZXOPTFTJNUM'\n",
        "ACCESS_TOKEN = 'IOHJCW2X5UG5W0DSC4LQXUSCZQW3KYEHCUODA12FPPCGX2JH'\n",
        "VERSION = '20180604'\n",
        "LIMIT = 30"
      ],
      "execution_count": 46,
      "outputs": []
    },
    {
      "cell_type": "code",
      "metadata": {
        "colab": {
          "base_uri": "https://localhost:8080/"
        },
        "id": "soAGfXTn70sv",
        "outputId": "21a48e03-e285-4056-d1d6-244031e811f3"
      },
      "source": [
        "print('CLIENT_ID = ', CLIENT_ID)\n",
        "print('CLIENT_SECRET', CLIENTE_SECRET)\n"
      ],
      "execution_count": 47,
      "outputs": [
        {
          "output_type": "stream",
          "text": [
            "CLIENT_ID =  1W4IK1UUMFLM1T3DZ1URW0I15Z01VX4KXVUKLEYWWXWBKTA\n",
            "CLIENT_SECRET AJQEN2I3VPN3AVVS1DMAIR4J05TVJZEQ51UQYZXOPTFTJNUM\n"
          ],
          "name": "stdout"
        }
      ]
    },
    {
      "cell_type": "code",
      "metadata": {
        "colab": {
          "base_uri": "https://localhost:8080/"
        },
        "id": "W0lz2UO_AZeu",
        "outputId": "471cca7d-6037-4da9-8f27-3157fe2e035d"
      },
      "source": [
        "search_query = 'Sushi'\n",
        "radius = 600\n",
        "print(search_query + '....ok!')"
      ],
      "execution_count": 48,
      "outputs": [
        {
          "output_type": "stream",
          "text": [
            "Sushi....ok!\n"
          ],
          "name": "stdout"
        }
      ]
    },
    {
      "cell_type": "code",
      "metadata": {
        "id": "J39rzd5qBTiw"
      },
      "source": [
        "url_asa = 'https://api.foursquare.com/v2/venues/search?client_id={}&client_secret={}&ll={}&oauth_token={}&v={}&query={}&radius={}&limit={}'.format(CLIENT_ID, CLIENT_SECRET, location_asa.latitude, location_asa.longitude, ACCESS_TOKEN, VERSION, search_query, radius, LIMIT)\n"
      ],
      "execution_count": 49,
      "outputs": []
    },
    {
      "cell_type": "code",
      "metadata": {
        "colab": {
          "base_uri": "https://localhost:8080/",
          "height": 55
        },
        "id": "aCDJFG_RBP4A",
        "outputId": "a5e63d9a-9e0c-405e-9a0e-712158811d24"
      },
      "source": [
        "url_asa"
      ],
      "execution_count": 50,
      "outputs": [
        {
          "output_type": "execute_result",
          "data": {
            "application/vnd.google.colaboratory.intrinsic+json": {
              "type": "string"
            },
            "text/plain": [
              "'https://api.foursquare.com/v2/venues/search?client_id=1W4IK1UUMFLM1T3DZ1URW0I15Z01VX4KXVUKLEYWWXWBKTA&client_secret=AJQEN2I3VPN3AVVS1DMAIR4J05TVJZEQ51UQYZXOPTFTJNUM&ll=35.7175966&oauth_token=139.7975626&v=IOHJCW2X5UG5W0DSC4LQXUSCZQW3KYEHCUODA12FPPCGX2JH&query=20180604&radius=Sushi&limit=600'"
            ]
          },
          "metadata": {
            "tags": []
          },
          "execution_count": 50
        }
      ]
    },
    {
      "cell_type": "code",
      "metadata": {
        "colab": {
          "base_uri": "https://localhost:8080/"
        },
        "id": "bFCbiCi9_7rR",
        "outputId": "fd301830-4ada-4628-b677-3070679ffcc7"
      },
      "source": [
        "results_asa = requests.get(url_asa).json()\n",
        "results_asa"
      ],
      "execution_count": 51,
      "outputs": [
        {
          "output_type": "execute_result",
          "data": {
            "text/plain": [
              "{'meta': {'code': 401,\n",
              "  'errorDetail': 'OAuth token invalid or revoked.',\n",
              "  'errorType': 'invalid_auth',\n",
              "  'requestId': '602d548d52faab7f264bdd7c'},\n",
              " 'response': {}}"
            ]
          },
          "metadata": {
            "tags": []
          },
          "execution_count": 51
        }
      ]
    },
    {
      "cell_type": "code",
      "metadata": {
        "id": "wnqM4cFS71SX"
      },
      "source": [
        ""
      ],
      "execution_count": null,
      "outputs": []
    },
    {
      "cell_type": "code",
      "metadata": {
        "id": "vMUhHs6t71yu"
      },
      "source": [
        ""
      ],
      "execution_count": null,
      "outputs": []
    }
  ]
}