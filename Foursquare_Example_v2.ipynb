{
  "nbformat": 4,
  "nbformat_minor": 0,
  "metadata": {
    "colab": {
      "name": "Foursquare Example.ipynb",
      "provenance": [],
      "collapsed_sections": [],
      "include_colab_link": true
    },
    "kernelspec": {
      "name": "python3",
      "display_name": "Python 3"
    }
  },
  "cells": [
    {
      "cell_type": "markdown",
      "metadata": {
        "id": "view-in-github",
        "colab_type": "text"
      },
      "source": [
        "<a href=\"https://colab.research.google.com/github/fnfloresr/Capstone-Repository/blob/main/Foursquare_Example_v2.ipynb\" target=\"_parent\"><img src=\"https://colab.research.google.com/assets/colab-badge.svg\" alt=\"Open In Colab\"/></a>"
      ]
    },
    {
      "cell_type": "markdown",
      "metadata": {
        "id": "0Mu9avJAkogD"
      },
      "source": [
        "Example 1"
      ]
    },
    {
      "cell_type": "code",
      "metadata": {
        "id": "FXHWZecI3PKx"
      },
      "source": [
        "import requests\n",
        "import pandas as pd \n",
        "import numpy as np\n",
        "import random"
      ],
      "execution_count": 2,
      "outputs": []
    },
    {
      "cell_type": "code",
      "metadata": {
        "colab": {
          "base_uri": "https://localhost:8080/"
        },
        "id": "nnzE5rSX3Wsa",
        "outputId": "7220efe4-beef-410b-ffa6-5abb62d7315a"
      },
      "source": [
        "! pip install geopy"
      ],
      "execution_count": 3,
      "outputs": [
        {
          "output_type": "stream",
          "text": [
            "Requirement already satisfied: geopy in /usr/local/lib/python3.6/dist-packages (1.17.0)\n",
            "Requirement already satisfied: geographiclib<2,>=1.49 in /usr/local/lib/python3.6/dist-packages (from geopy) (1.50)\n"
          ],
          "name": "stdout"
        }
      ]
    },
    {
      "cell_type": "code",
      "metadata": {
        "id": "Df9-7kjo3aYq"
      },
      "source": [
        "from geopy.geocoders import Nominatim"
      ],
      "execution_count": 4,
      "outputs": []
    },
    {
      "cell_type": "code",
      "metadata": {
        "id": "AswwVSfi3h5C"
      },
      "source": [
        "from IPython.display import Image\n",
        "from IPython.core.display import HTML"
      ],
      "execution_count": 5,
      "outputs": []
    },
    {
      "cell_type": "code",
      "metadata": {
        "id": "GQ34BxRp3wDa"
      },
      "source": [
        "from pandas.io.json import json_normalize"
      ],
      "execution_count": 6,
      "outputs": []
    },
    {
      "cell_type": "code",
      "metadata": {
        "colab": {
          "base_uri": "https://localhost:8080/"
        },
        "id": "ajrBbk4W32Zb",
        "outputId": "c21aa563-4da4-4ed6-a1a9-feaa19419800"
      },
      "source": [
        "! pip install folium\n",
        "print('')\n",
        "print('ok')"
      ],
      "execution_count": 7,
      "outputs": [
        {
          "output_type": "stream",
          "text": [
            "Requirement already satisfied: folium in /usr/local/lib/python3.6/dist-packages (0.8.3)\n",
            "Requirement already satisfied: requests in /usr/local/lib/python3.6/dist-packages (from folium) (2.23.0)\n",
            "Requirement already satisfied: jinja2 in /usr/local/lib/python3.6/dist-packages (from folium) (2.11.3)\n",
            "Requirement already satisfied: six in /usr/local/lib/python3.6/dist-packages (from folium) (1.15.0)\n",
            "Requirement already satisfied: numpy in /usr/local/lib/python3.6/dist-packages (from folium) (1.19.5)\n",
            "Requirement already satisfied: branca>=0.3.0 in /usr/local/lib/python3.6/dist-packages (from folium) (0.4.2)\n",
            "Requirement already satisfied: chardet<4,>=3.0.2 in /usr/local/lib/python3.6/dist-packages (from requests->folium) (3.0.4)\n",
            "Requirement already satisfied: idna<3,>=2.5 in /usr/local/lib/python3.6/dist-packages (from requests->folium) (2.10)\n",
            "Requirement already satisfied: certifi>=2017.4.17 in /usr/local/lib/python3.6/dist-packages (from requests->folium) (2020.12.5)\n",
            "Requirement already satisfied: urllib3!=1.25.0,!=1.25.1,<1.26,>=1.21.1 in /usr/local/lib/python3.6/dist-packages (from requests->folium) (1.24.3)\n",
            "Requirement already satisfied: MarkupSafe>=0.23 in /usr/local/lib/python3.6/dist-packages (from jinja2->folium) (1.1.1)\n",
            "\n",
            "ok\n"
          ],
          "name": "stdout"
        }
      ]
    },
    {
      "cell_type": "code",
      "metadata": {
        "id": "pwBqiJZB3_ui"
      },
      "source": [
        "asa = \"2-6-7 Asakusa, Tokyo, 111-0032, Japan\"\n",
        "shin = \"1-20-2 Shinjuku, Shinjuku-ku, Tokyo, 160-0021, Japan\""
      ],
      "execution_count": 8,
      "outputs": []
    },
    {
      "cell_type": "code",
      "metadata": {
        "id": "9ocysIw74L7E"
      },
      "source": [
        "geolocator = Nominatim(user_agent=\"foursquare_agent\")"
      ],
      "execution_count": 9,
      "outputs": []
    },
    {
      "cell_type": "code",
      "metadata": {
        "colab": {
          "base_uri": "https://localhost:8080/"
        },
        "id": "45pwaCmS4VH1",
        "outputId": "40c3ffaa-dc54-412b-eb1f-18580263bcc6"
      },
      "source": [
        "location_asa = geolocator.geocode(asa)\n",
        "location_shin = geolocator.geocode(shin)\n",
        "\n",
        "print(location_asa.latitude, location_asa.longitude)\n",
        "print(location_shin.latitude, location_shin.longitude)\n"
      ],
      "execution_count": 10,
      "outputs": [
        {
          "output_type": "stream",
          "text": [
            "35.7090062 139.7964925\n",
            "35.6922273 139.7006009\n"
          ],
          "name": "stdout"
        }
      ]
    },
    {
      "cell_type": "code",
      "metadata": {
        "id": "Yq9y8uY270Gz"
      },
      "source": [
        "CLIENT_ID = '1W4IK1UUMFLM1T3DZ1URW0I15Z01VX4KXVUKLEYWWXWBKTA'\n",
        "CLIENT_SECRET = 'GPHLVDJ310XIQQFV5RTKZWVVHXMH2Y0NDD3DEKVVOPR35O1C'\n",
        "ACCESS_TOKEN = 'U1MLLURYOWHM0VMMEEGGMLEQLPDIRJZXXTNXX4XXNNKMJICF'\n",
        "VERSION = '20210218'\n",
        "LIMIT = 30"
      ],
      "execution_count": 11,
      "outputs": []
    },
    {
      "cell_type": "code",
      "metadata": {
        "colab": {
          "base_uri": "https://localhost:8080/"
        },
        "id": "soAGfXTn70sv",
        "outputId": "aae224d5-48da-46ac-9ccf-b77f285c5ef8"
      },
      "source": [
        "print('CLIENT_ID = ', CLIENT_ID)\n",
        "print('CLIENT_SECRET =', CLIENT_SECRET)\n",
        "print('ACCESS_TOKEN =', ACCESS_TOKEN)\n",
        "print('VERSION =', VERSION)\n",
        "print('LIMIT =', LIMIT)\n",
        "\n"
      ],
      "execution_count": 12,
      "outputs": [
        {
          "output_type": "stream",
          "text": [
            "CLIENT_ID =  1W4IK1UUMFLM1T3DZ1URW0I15Z01VX4KXVUKLEYWWXWBKTA\n",
            "CLIENT_SECRET = GPHLVDJ310XIQQFV5RTKZWVVHXMH2Y0NDD3DEKVVOPR35O1C\n",
            "ACCESS_TOKEN = U1MLLURYOWHM0VMMEEGGMLEQLPDIRJZXXTNXX4XXNNKMJICF\n",
            "VERSION = 20210218\n",
            "LIMIT = 30\n"
          ],
          "name": "stdout"
        }
      ]
    },
    {
      "cell_type": "code",
      "metadata": {
        "colab": {
          "base_uri": "https://localhost:8080/"
        },
        "id": "W0lz2UO_AZeu",
        "outputId": "d137aef2-1136-40dd-8ba1-3c70e9f2ad45"
      },
      "source": [
        "search_query = 'Sushi'\n",
        "radius = 250\n",
        "print(search_query + '....ok!')"
      ],
      "execution_count": 35,
      "outputs": [
        {
          "output_type": "stream",
          "text": [
            "Sushi....ok!\n"
          ],
          "name": "stdout"
        }
      ]
    },
    {
      "cell_type": "code",
      "metadata": {
        "id": "J39rzd5qBTiw"
      },
      "source": [
        "url_asa = 'https://api.foursquare.com/v2/venues/search?client_id={}&client_secret={}&ll={},{}&oauth_token={}&v={}&query={}&radius={}&limit={}'.format(CLIENT_ID, CLIENT_SECRET, location_asa.latitude, location_asa.longitude, ACCESS_TOKEN, VERSION, search_query, radius, LIMIT)\n"
      ],
      "execution_count": 36,
      "outputs": []
    },
    {
      "cell_type": "code",
      "metadata": {
        "colab": {
          "base_uri": "https://localhost:8080/",
          "height": 52
        },
        "id": "aCDJFG_RBP4A",
        "outputId": "1edc63b0-0e38-44ef-f080-47429d34fe55"
      },
      "source": [
        "url_asa"
      ],
      "execution_count": 37,
      "outputs": [
        {
          "output_type": "execute_result",
          "data": {
            "application/vnd.google.colaboratory.intrinsic+json": {
              "type": "string"
            },
            "text/plain": [
              "'https://api.foursquare.com/v2/venues/search?client_id=1W4IK1UUMFLM1T3DZ1URW0I15Z01VX4KXVUKLEYWWXWBKTA&client_secret=GPHLVDJ310XIQQFV5RTKZWVVHXMH2Y0NDD3DEKVVOPR35O1C&ll=35.7090062,139.7964925&oauth_token=U1MLLURYOWHM0VMMEEGGMLEQLPDIRJZXXTNXX4XXNNKMJICF&v=20210218&query=Sushi&radius=250&limit=30'"
            ]
          },
          "metadata": {
            "tags": []
          },
          "execution_count": 37
        }
      ]
    },
    {
      "cell_type": "code",
      "metadata": {
        "colab": {
          "base_uri": "https://localhost:8080/"
        },
        "id": "bFCbiCi9_7rR",
        "outputId": "4714df78-9314-40d9-e45a-25b06f316c21"
      },
      "source": [
        "results_asa = requests.get(url_asa).json()\n",
        "results_asa"
      ],
      "execution_count": 38,
      "outputs": [
        {
          "output_type": "execute_result",
          "data": {
            "text/plain": [
              "{'meta': {'code': 200, 'requestId': '602eea53d7e05c24795a0499'},\n",
              " 'notifications': [{'item': {'unreadCount': 0}, 'type': 'notificationTray'}],\n",
              " 'response': {'venues': [{'categories': [{'icon': {'prefix': 'https://ss3.4sqi.net/img/categories_v2/food/sushi_',\n",
              "       'suffix': '.png'},\n",
              "      'id': '4bf58dd8d48988d1d2941735',\n",
              "      'name': 'Sushi Restaurant',\n",
              "      'pluralName': 'Sushi Restaurants',\n",
              "      'primary': True,\n",
              "      'shortName': 'Sushi'}],\n",
              "    'hasPerk': False,\n",
              "    'id': '4ebd3f1ab8f7b504a75f19e8',\n",
              "    'location': {'address': '雷門2-16-9',\n",
              "     'cc': 'JP',\n",
              "     'city': '東京',\n",
              "     'country': '日本',\n",
              "     'crossStreet': 'パゴダ浅草 1F-2F',\n",
              "     'distance': 249,\n",
              "     'formattedAddress': ['雷門2-16-9 (パゴダ浅草 1F-2F)',\n",
              "      '台東区, 東京都',\n",
              "      '111-0034',\n",
              "      '日本'],\n",
              "     'labeledLatLngs': [{'label': 'display',\n",
              "       'lat': 35.710894221997364,\n",
              "       'lng': 139.79499980807304}],\n",
              "     'lat': 35.710894221997364,\n",
              "     'lng': 139.79499980807304,\n",
              "     'postalCode': '111-0034',\n",
              "     'state': '東京都'},\n",
              "    'name': 'Tsukiji Sushi Sen (築地すし鮮)',\n",
              "    'referralId': 'v-1613687379'},\n",
              "   {'categories': [{'icon': {'prefix': 'https://ss3.4sqi.net/img/categories_v2/food/sushi_',\n",
              "       'suffix': '.png'},\n",
              "      'id': '4bf58dd8d48988d1d2941735',\n",
              "      'name': 'Sushi Restaurant',\n",
              "      'pluralName': 'Sushi Restaurants',\n",
              "      'primary': True,\n",
              "      'shortName': 'Sushi'}],\n",
              "    'hasPerk': False,\n",
              "    'id': '533a7dad498ef2793db5c3df',\n",
              "    'location': {'address': '雷門1-3-7',\n",
              "     'cc': 'JP',\n",
              "     'city': '東京',\n",
              "     'country': '日本',\n",
              "     'distance': 294,\n",
              "     'formattedAddress': ['雷門1-3-7', '東京, 東京都', '111-0034', '日本'],\n",
              "     'labeledLatLngs': [{'label': 'display',\n",
              "       'lat': 35.710119131113714,\n",
              "       'lng': 139.7935339808464}],\n",
              "     'lat': 35.710119131113714,\n",
              "     'lng': 139.7935339808464,\n",
              "     'postalCode': '111-0034',\n",
              "     'state': '東京都'},\n",
              "    'name': '野八',\n",
              "    'referralId': 'v-1613687379'},\n",
              "   {'categories': [{'icon': {'prefix': 'https://ss3.4sqi.net/img/categories_v2/food/sushi_',\n",
              "       'suffix': '.png'},\n",
              "      'id': '4bf58dd8d48988d1d2941735',\n",
              "      'name': 'Sushi Restaurant',\n",
              "      'pluralName': 'Sushi Restaurants',\n",
              "      'primary': True,\n",
              "      'shortName': 'Sushi'}],\n",
              "    'hasPerk': False,\n",
              "    'id': '4dcc9fe722718eed7a0bf947',\n",
              "    'location': {'address': '花川戸1-2-3',\n",
              "     'cc': 'JP',\n",
              "     'city': '台東区',\n",
              "     'country': '日本',\n",
              "     'crossStreet': '浅草駅前',\n",
              "     'distance': 257,\n",
              "     'formattedAddress': ['花川戸1-2-3 (浅草駅前)', '台東区, 東京都', '111-0033', '日本'],\n",
              "     'labeledLatLngs': [{'label': 'display',\n",
              "       'lat': 35.710911,\n",
              "       'lng': 139.798112}],\n",
              "     'lat': 35.710911,\n",
              "     'lng': 139.798112,\n",
              "     'postalCode': '111-0033',\n",
              "     'state': '東京都'},\n",
              "    'name': 'Ganso Zushi (元祖寿司)',\n",
              "    'referralId': 'v-1613687379'}]}}"
            ]
          },
          "metadata": {
            "tags": []
          },
          "execution_count": 38
        }
      ]
    },
    {
      "cell_type": "code",
      "metadata": {
        "id": "wnqM4cFS71SX",
        "colab": {
          "base_uri": "https://localhost:8080/",
          "height": 52
        },
        "outputId": "55bca6c9-f211-4959-87c5-a6a17c6f8078"
      },
      "source": [
        "url_shin = 'https://api.foursquare.com/v2/venues/search?client_id={}&client_secret={}&ll={},{}&oauth_token={}&v={}&query={}&radius={}&limit={}'.format(CLIENT_ID, CLIENT_SECRET, location_shin.latitude, location_shin.longitude, ACCESS_TOKEN, VERSION, search_query, radius, LIMIT)\r\n",
        "url_shin"
      ],
      "execution_count": 39,
      "outputs": [
        {
          "output_type": "execute_result",
          "data": {
            "application/vnd.google.colaboratory.intrinsic+json": {
              "type": "string"
            },
            "text/plain": [
              "'https://api.foursquare.com/v2/venues/search?client_id=1W4IK1UUMFLM1T3DZ1URW0I15Z01VX4KXVUKLEYWWXWBKTA&client_secret=GPHLVDJ310XIQQFV5RTKZWVVHXMH2Y0NDD3DEKVVOPR35O1C&ll=35.6922273,139.7006009&oauth_token=U1MLLURYOWHM0VMMEEGGMLEQLPDIRJZXXTNXX4XXNNKMJICF&v=20210218&query=Sushi&radius=250&limit=30'"
            ]
          },
          "metadata": {
            "tags": []
          },
          "execution_count": 39
        }
      ]
    },
    {
      "cell_type": "code",
      "metadata": {
        "id": "vMUhHs6t71yu",
        "colab": {
          "base_uri": "https://localhost:8080/"
        },
        "outputId": "440150e3-9b98-4a24-f9e9-12b23e7c3111"
      },
      "source": [
        "results_shin = requests.get(url_shin).json()\r\n",
        "results_shin"
      ],
      "execution_count": 40,
      "outputs": [
        {
          "output_type": "execute_result",
          "data": {
            "text/plain": [
              "{'meta': {'code': 200, 'requestId': '602eea5a443e2c5300320f62'},\n",
              " 'notifications': [{'item': {'unreadCount': 0}, 'type': 'notificationTray'}],\n",
              " 'response': {'venues': [{'categories': [{'icon': {'prefix': 'https://ss3.4sqi.net/img/categories_v2/food/sushi_',\n",
              "       'suffix': '.png'},\n",
              "      'id': '4bf58dd8d48988d1d2941735',\n",
              "      'name': 'Sushi Restaurant',\n",
              "      'pluralName': 'Sushi Restaurants',\n",
              "      'primary': True,\n",
              "      'shortName': 'Sushi'}],\n",
              "    'hasPerk': False,\n",
              "    'id': '5a59c8c00a464d6ac461cb5f',\n",
              "    'location': {'address': '新宿3-38-1',\n",
              "     'cc': 'JP',\n",
              "     'city': '東京',\n",
              "     'country': '日本',\n",
              "     'crossStreet': 'ルミネエスト新宿 8F',\n",
              "     'distance': 91,\n",
              "     'formattedAddress': ['新宿3-38-1 (ルミネエスト新宿 8F)',\n",
              "      '新宿区, 東京都',\n",
              "      '160-0022',\n",
              "      '日本'],\n",
              "     'labeledLatLngs': [{'label': 'display',\n",
              "       'lat': 35.691517,\n",
              "       'lng': 139.7011}],\n",
              "     'lat': 35.691517,\n",
              "     'lng': 139.7011,\n",
              "     'postalCode': '160-0022',\n",
              "     'state': '東京都'},\n",
              "    'name': 'Sushi Kotama (すし こたま)',\n",
              "    'referralId': 'v-1613687386'},\n",
              "   {'categories': [{'icon': {'prefix': 'https://ss3.4sqi.net/img/categories_v2/food/sushi_',\n",
              "       'suffix': '.png'},\n",
              "      'id': '4bf58dd8d48988d1d2941735',\n",
              "      'name': 'Sushi Restaurant',\n",
              "      'pluralName': 'Sushi Restaurants',\n",
              "      'primary': True,\n",
              "      'shortName': 'Sushi'}],\n",
              "    'hasPerk': False,\n",
              "    'id': '55fd77df498e0e3093dac5aa',\n",
              "    'location': {'address': '新宿3-18-4',\n",
              "     'cc': 'JP',\n",
              "     'city': '東京',\n",
              "     'country': '日本',\n",
              "     'crossStreet': 'セノビル 3F',\n",
              "     'distance': 157,\n",
              "     'formattedAddress': ['新宿3-18-4 (セノビル 3F)', '新宿区, 東京都', '160-0022', '日本'],\n",
              "     'labeledLatLngs': [{'label': 'display',\n",
              "       'lat': 35.692341,\n",
              "       'lng': 139.702335}],\n",
              "     'lat': 35.692341,\n",
              "     'lng': 139.702335,\n",
              "     'postalCode': '160-0022',\n",
              "     'state': '東京都'},\n",
              "    'name': 'Sushizanmai (すしざんまい)',\n",
              "    'referralId': 'v-1613687386'},\n",
              "   {'categories': [{'icon': {'prefix': 'https://ss3.4sqi.net/img/categories_v2/food/sushi_',\n",
              "       'suffix': '.png'},\n",
              "      'id': '4bf58dd8d48988d1d2941735',\n",
              "      'name': 'Sushi Restaurant',\n",
              "      'pluralName': 'Sushi Restaurants',\n",
              "      'primary': True,\n",
              "      'shortName': 'Sushi'}],\n",
              "    'hasPerk': False,\n",
              "    'id': '511078d2e4b00d021962df2a',\n",
              "    'location': {'address': '西新宿1-3-1',\n",
              "     'cc': 'JP',\n",
              "     'city': '東京',\n",
              "     'country': '日本',\n",
              "     'crossStreet': '新宿サンフラワービル 1F',\n",
              "     'distance': 206,\n",
              "     'formattedAddress': ['西新宿1-3-1 (新宿サンフラワービル 1F)',\n",
              "      '新宿区, 東京都',\n",
              "      '160-0023',\n",
              "      '日本'],\n",
              "     'labeledLatLngs': [{'label': 'display',\n",
              "       'lat': 35.693417779175846,\n",
              "       'lng': 139.69884797930717}],\n",
              "     'lat': 35.693417779175846,\n",
              "     'lng': 139.69884797930717,\n",
              "     'postalCode': '160-0023',\n",
              "     'state': '東京都'},\n",
              "    'name': 'Oedo (回転寿司 大江戸)',\n",
              "    'referralId': 'v-1613687386'},\n",
              "   {'categories': [{'icon': {'prefix': 'https://ss3.4sqi.net/img/categories_v2/food/sushi_',\n",
              "       'suffix': '.png'},\n",
              "      'id': '4bf58dd8d48988d1d2941735',\n",
              "      'name': 'Sushi Restaurant',\n",
              "      'pluralName': 'Sushi Restaurants',\n",
              "      'primary': True,\n",
              "      'shortName': 'Sushi'}],\n",
              "    'hasPerk': False,\n",
              "    'id': '5fffcb805856d95fb1f48d8a',\n",
              "    'location': {'address': '西新宿7-1-7',\n",
              "     'cc': 'JP',\n",
              "     'city': '東京',\n",
              "     'country': '日本',\n",
              "     'crossStreet': '新宿ダイカンプラザA館2F',\n",
              "     'distance': 275,\n",
              "     'formattedAddress': ['西新宿7-1-7 (新宿ダイカンプラザA館2F)',\n",
              "      '新宿区, 東京都',\n",
              "      '160-0023',\n",
              "      '日本'],\n",
              "     'labeledLatLngs': [{'label': 'display',\n",
              "       'lat': 35.69434650289613,\n",
              "       'lng': 139.69903573393822}],\n",
              "     'lat': 35.69434650289613,\n",
              "     'lng': 139.69903573393822,\n",
              "     'postalCode': '160-0023',\n",
              "     'state': '東京都'},\n",
              "    'name': 'Kura Sushi (くら寿司)',\n",
              "    'referralId': 'v-1613687386'},\n",
              "   {'categories': [{'icon': {'prefix': 'https://ss3.4sqi.net/img/categories_v2/food/sushi_',\n",
              "       'suffix': '.png'},\n",
              "      'id': '4bf58dd8d48988d1d2941735',\n",
              "      'name': 'Sushi Restaurant',\n",
              "      'pluralName': 'Sushi Restaurants',\n",
              "      'primary': True,\n",
              "      'shortName': 'Sushi'}],\n",
              "    'hasPerk': False,\n",
              "    'id': '5400d137498ed107bea9a86b',\n",
              "    'location': {'address': '歌舞伎町1-15-5',\n",
              "     'cc': 'JP',\n",
              "     'city': '東京',\n",
              "     'country': '日本',\n",
              "     'crossStreet': 'セントラルロード ビッグレモンビル 1F',\n",
              "     'distance': 239,\n",
              "     'formattedAddress': ['歌舞伎町1-15-5 (セントラルロード ビッグレモンビル 1F)',\n",
              "      '新宿区, 東京都',\n",
              "      '日本'],\n",
              "     'labeledLatLngs': [{'label': 'display',\n",
              "       'lat': 35.69414849565829,\n",
              "       'lng': 139.701789021492}],\n",
              "     'lat': 35.69414849565829,\n",
              "     'lng': 139.701789021492,\n",
              "     'state': '東京都'},\n",
              "    'name': 'Sushi Mamire (築地海鮮 すしまみれ)',\n",
              "    'referralId': 'v-1613687386'},\n",
              "   {'categories': [{'icon': {'prefix': 'https://ss3.4sqi.net/img/categories_v2/food/sushi_',\n",
              "       'suffix': '.png'},\n",
              "      'id': '4bf58dd8d48988d1d2941735',\n",
              "      'name': 'Sushi Restaurant',\n",
              "      'pluralName': 'Sushi Restaurants',\n",
              "      'primary': True,\n",
              "      'shortName': 'Sushi'}],\n",
              "    'hasPerk': False,\n",
              "    'id': '556ad586498e03cd34957923',\n",
              "    'location': {'address': '新宿3-17-7',\n",
              "     'cc': 'JP',\n",
              "     'city': '新宿区',\n",
              "     'country': '日本',\n",
              "     'crossStreet': '紀伊國屋ビル B1F',\n",
              "     'distance': 213,\n",
              "     'formattedAddress': ['新宿3-17-7 (紀伊國屋ビル B1F)',\n",
              "      '新宿区, 東京都',\n",
              "      '160-0022',\n",
              "      '日本'],\n",
              "     'labeledLatLngs': [{'label': 'display',\n",
              "       'lat': 35.69222185239619,\n",
              "       'lng': 139.70296508058317}],\n",
              "     'lat': 35.69222185239619,\n",
              "     'lng': 139.70296508058317,\n",
              "     'neighborhood': '新宿区, 東京, 東京都',\n",
              "     'postalCode': '160-0022',\n",
              "     'state': '東京都'},\n",
              "    'name': 'Sushi Misakimaru (すし三崎丸)',\n",
              "    'referralId': 'v-1613687386'},\n",
              "   {'categories': [{'icon': {'prefix': 'https://ss3.4sqi.net/img/categories_v2/food/sushi_',\n",
              "       'suffix': '.png'},\n",
              "      'id': '4bf58dd8d48988d1d2941735',\n",
              "      'name': 'Sushi Restaurant',\n",
              "      'pluralName': 'Sushi Restaurants',\n",
              "      'primary': True,\n",
              "      'shortName': 'Sushi'}],\n",
              "    'hasPerk': False,\n",
              "    'id': '59883ac4f5e9d71716112f71',\n",
              "    'location': {'address': '西新宿1',\n",
              "     'cc': 'JP',\n",
              "     'city': '東京',\n",
              "     'country': '日本',\n",
              "     'crossStreet': '小田急エース 北館東',\n",
              "     'distance': 167,\n",
              "     'formattedAddress': ['西新宿1 (小田急エース 北館東)', '新宿区, 東京都', '160-0023', '日本'],\n",
              "     'labeledLatLngs': [{'label': 'display',\n",
              "       'lat': 35.691650022431645,\n",
              "       'lng': 139.69888687133786}],\n",
              "     'lat': 35.691650022431645,\n",
              "     'lng': 139.69888687133786,\n",
              "     'neighborhood': '西新宿',\n",
              "     'postalCode': '160-0023',\n",
              "     'state': '東京都'},\n",
              "    'name': 'Hokkai-Sushi Unimaru (北海寿司 うに丸)',\n",
              "    'referralId': 'v-1613687386'},\n",
              "   {'categories': [{'icon': {'prefix': 'https://ss3.4sqi.net/img/categories_v2/food/sushi_',\n",
              "       'suffix': '.png'},\n",
              "      'id': '4bf58dd8d48988d1d2941735',\n",
              "      'name': 'Sushi Restaurant',\n",
              "      'pluralName': 'Sushi Restaurants',\n",
              "      'primary': True,\n",
              "      'shortName': 'Sushi'}],\n",
              "    'hasPerk': False,\n",
              "    'id': '5813ff0538fa25270e80bec2',\n",
              "    'location': {'address': '西新宿1-1-5',\n",
              "     'cc': 'JP',\n",
              "     'city': '東京',\n",
              "     'country': '日本',\n",
              "     'crossStreet': 'ルミネ新宿1 B2F',\n",
              "     'distance': 400,\n",
              "     'formattedAddress': ['西新宿1-1-5 (ルミネ新宿1 B2F)',\n",
              "      '新宿区, 東京都',\n",
              "      '160-0023',\n",
              "      '日本'],\n",
              "     'labeledLatLngs': [{'label': 'display',\n",
              "       'lat': 35.68889141492929,\n",
              "       'lng': 139.69893294029998}],\n",
              "     'lat': 35.68889141492929,\n",
              "     'lng': 139.69893294029998,\n",
              "     'postalCode': '160-0023',\n",
              "     'state': '東京都'},\n",
              "    'name': 'Sushi Takewaka (すし たけわか)',\n",
              "    'referralId': 'v-1613687386'},\n",
              "   {'categories': [{'icon': {'prefix': 'https://ss3.4sqi.net/img/categories_v2/food/sushi_',\n",
              "       'suffix': '.png'},\n",
              "      'id': '4bf58dd8d48988d1d2941735',\n",
              "      'name': 'Sushi Restaurant',\n",
              "      'pluralName': 'Sushi Restaurants',\n",
              "      'primary': True,\n",
              "      'shortName': 'Sushi'}],\n",
              "    'hasPerk': False,\n",
              "    'id': '4c3699433849c9283569bcb1',\n",
              "    'location': {'address': '新宿3-21-4',\n",
              "     'cc': 'JP',\n",
              "     'city': '東京',\n",
              "     'country': '日本',\n",
              "     'distance': 165,\n",
              "     'formattedAddress': ['新宿3-21-4', '新宿区, 東京都', '160-0022', '日本'],\n",
              "     'labeledLatLngs': [{'label': 'display',\n",
              "       'lat': 35.693033,\n",
              "       'lng': 139.702145}],\n",
              "     'lat': 35.693033,\n",
              "     'lng': 139.702145,\n",
              "     'postalCode': '160-0022',\n",
              "     'state': '東京都'},\n",
              "    'name': 'Ougi Sushi (扇寿司)',\n",
              "    'referralId': 'v-1613687386'},\n",
              "   {'categories': [{'icon': {'prefix': 'https://ss3.4sqi.net/img/categories_v2/food/sushi_',\n",
              "       'suffix': '.png'},\n",
              "      'id': '4bf58dd8d48988d1d2941735',\n",
              "      'name': 'Sushi Restaurant',\n",
              "      'pluralName': 'Sushi Restaurants',\n",
              "      'primary': True,\n",
              "      'shortName': 'Sushi'}],\n",
              "    'hasPerk': False,\n",
              "    'id': '4e0f125be4cd27fc7d359179',\n",
              "    'location': {'address': '歌舞伎町1-25-3',\n",
              "     'cc': 'JP',\n",
              "     'city': '東京',\n",
              "     'country': '日本',\n",
              "     'distance': 249,\n",
              "     'formattedAddress': ['歌舞伎町1-25-3', '新宿区, 東京都', '160-0021', '日本'],\n",
              "     'labeledLatLngs': [{'label': 'display',\n",
              "       'lat': 35.69446322715062,\n",
              "       'lng': 139.7004454700925}],\n",
              "     'lat': 35.69446322715062,\n",
              "     'lng': 139.7004454700925,\n",
              "     'postalCode': '160-0021',\n",
              "     'state': '東京都'},\n",
              "    'name': 'Sakura Sushi (桜すし)',\n",
              "    'referralId': 'v-1613687386'}]}}"
            ]
          },
          "metadata": {
            "tags": []
          },
          "execution_count": 40
        }
      ]
    },
    {
      "cell_type": "code",
      "metadata": {
        "colab": {
          "base_uri": "https://localhost:8080/",
          "height": 366
        },
        "id": "h4k79nM7dEEy",
        "outputId": "f05dca6b-8217-4b96-9e8f-b227f3b574a0"
      },
      "source": [
        "venues_asa = results_asa['response']['venues']\r\n",
        "df_asa = json_normalize(venues_asa)\r\n",
        "df_asa"
      ],
      "execution_count": 43,
      "outputs": [
        {
          "output_type": "stream",
          "text": [
            "/usr/local/lib/python3.6/dist-packages/ipykernel_launcher.py:2: FutureWarning: pandas.io.json.json_normalize is deprecated, use pandas.json_normalize instead\n",
            "  \n"
          ],
          "name": "stderr"
        },
        {
          "output_type": "execute_result",
          "data": {
            "text/html": [
              "<div>\n",
              "<style scoped>\n",
              "    .dataframe tbody tr th:only-of-type {\n",
              "        vertical-align: middle;\n",
              "    }\n",
              "\n",
              "    .dataframe tbody tr th {\n",
              "        vertical-align: top;\n",
              "    }\n",
              "\n",
              "    .dataframe thead th {\n",
              "        text-align: right;\n",
              "    }\n",
              "</style>\n",
              "<table border=\"1\" class=\"dataframe\">\n",
              "  <thead>\n",
              "    <tr style=\"text-align: right;\">\n",
              "      <th></th>\n",
              "      <th>id</th>\n",
              "      <th>name</th>\n",
              "      <th>categories</th>\n",
              "      <th>referralId</th>\n",
              "      <th>hasPerk</th>\n",
              "      <th>location.address</th>\n",
              "      <th>location.crossStreet</th>\n",
              "      <th>location.lat</th>\n",
              "      <th>location.lng</th>\n",
              "      <th>location.labeledLatLngs</th>\n",
              "      <th>location.distance</th>\n",
              "      <th>location.postalCode</th>\n",
              "      <th>location.cc</th>\n",
              "      <th>location.city</th>\n",
              "      <th>location.state</th>\n",
              "      <th>location.country</th>\n",
              "      <th>location.formattedAddress</th>\n",
              "    </tr>\n",
              "  </thead>\n",
              "  <tbody>\n",
              "    <tr>\n",
              "      <th>0</th>\n",
              "      <td>4ebd3f1ab8f7b504a75f19e8</td>\n",
              "      <td>Tsukiji Sushi Sen (築地すし鮮)</td>\n",
              "      <td>[{'id': '4bf58dd8d48988d1d2941735', 'name': 'S...</td>\n",
              "      <td>v-1613687379</td>\n",
              "      <td>False</td>\n",
              "      <td>雷門2-16-9</td>\n",
              "      <td>パゴダ浅草 1F-2F</td>\n",
              "      <td>35.710894</td>\n",
              "      <td>139.795000</td>\n",
              "      <td>[{'label': 'display', 'lat': 35.71089422199736...</td>\n",
              "      <td>249</td>\n",
              "      <td>111-0034</td>\n",
              "      <td>JP</td>\n",
              "      <td>東京</td>\n",
              "      <td>東京都</td>\n",
              "      <td>日本</td>\n",
              "      <td>[雷門2-16-9 (パゴダ浅草 1F-2F), 台東区, 東京都, 111-0034, 日本]</td>\n",
              "    </tr>\n",
              "    <tr>\n",
              "      <th>1</th>\n",
              "      <td>533a7dad498ef2793db5c3df</td>\n",
              "      <td>野八</td>\n",
              "      <td>[{'id': '4bf58dd8d48988d1d2941735', 'name': 'S...</td>\n",
              "      <td>v-1613687379</td>\n",
              "      <td>False</td>\n",
              "      <td>雷門1-3-7</td>\n",
              "      <td>NaN</td>\n",
              "      <td>35.710119</td>\n",
              "      <td>139.793534</td>\n",
              "      <td>[{'label': 'display', 'lat': 35.71011913111371...</td>\n",
              "      <td>294</td>\n",
              "      <td>111-0034</td>\n",
              "      <td>JP</td>\n",
              "      <td>東京</td>\n",
              "      <td>東京都</td>\n",
              "      <td>日本</td>\n",
              "      <td>[雷門1-3-7, 東京, 東京都, 111-0034, 日本]</td>\n",
              "    </tr>\n",
              "    <tr>\n",
              "      <th>2</th>\n",
              "      <td>4dcc9fe722718eed7a0bf947</td>\n",
              "      <td>Ganso Zushi (元祖寿司)</td>\n",
              "      <td>[{'id': '4bf58dd8d48988d1d2941735', 'name': 'S...</td>\n",
              "      <td>v-1613687379</td>\n",
              "      <td>False</td>\n",
              "      <td>花川戸1-2-3</td>\n",
              "      <td>浅草駅前</td>\n",
              "      <td>35.710911</td>\n",
              "      <td>139.798112</td>\n",
              "      <td>[{'label': 'display', 'lat': 35.710911, 'lng':...</td>\n",
              "      <td>257</td>\n",
              "      <td>111-0033</td>\n",
              "      <td>JP</td>\n",
              "      <td>台東区</td>\n",
              "      <td>東京都</td>\n",
              "      <td>日本</td>\n",
              "      <td>[花川戸1-2-3 (浅草駅前), 台東区, 東京都, 111-0033, 日本]</td>\n",
              "    </tr>\n",
              "  </tbody>\n",
              "</table>\n",
              "</div>"
            ],
            "text/plain": [
              "                         id  ...                         location.formattedAddress\n",
              "0  4ebd3f1ab8f7b504a75f19e8  ...  [雷門2-16-9 (パゴダ浅草 1F-2F), 台東区, 東京都, 111-0034, 日本]\n",
              "1  533a7dad498ef2793db5c3df  ...                  [雷門1-3-7, 東京, 東京都, 111-0034, 日本]\n",
              "2  4dcc9fe722718eed7a0bf947  ...         [花川戸1-2-3 (浅草駅前), 台東区, 東京都, 111-0033, 日本]\n",
              "\n",
              "[3 rows x 17 columns]"
            ]
          },
          "metadata": {
            "tags": []
          },
          "execution_count": 43
        }
      ]
    },
    {
      "cell_type": "code",
      "metadata": {
        "id": "axxcZETkdEXn"
      },
      "source": [
        "short_df_asa = df_asa.drop(columns=['categories','hasPerk','location.address','referralId','location.crossStreet','location.labeledLatLngs','location.postalCode','location.cc','location.city','location.state','location.country','location.formattedAddress'])"
      ],
      "execution_count": 48,
      "outputs": []
    },
    {
      "cell_type": "code",
      "metadata": {
        "colab": {
          "base_uri": "https://localhost:8080/",
          "height": 142
        },
        "id": "t1AqCXMidEad",
        "outputId": "a587915a-0ffc-45e6-b36e-6b0965fa6d36"
      },
      "source": [
        "short_df_asa"
      ],
      "execution_count": 49,
      "outputs": [
        {
          "output_type": "execute_result",
          "data": {
            "text/html": [
              "<div>\n",
              "<style scoped>\n",
              "    .dataframe tbody tr th:only-of-type {\n",
              "        vertical-align: middle;\n",
              "    }\n",
              "\n",
              "    .dataframe tbody tr th {\n",
              "        vertical-align: top;\n",
              "    }\n",
              "\n",
              "    .dataframe thead th {\n",
              "        text-align: right;\n",
              "    }\n",
              "</style>\n",
              "<table border=\"1\" class=\"dataframe\">\n",
              "  <thead>\n",
              "    <tr style=\"text-align: right;\">\n",
              "      <th></th>\n",
              "      <th>id</th>\n",
              "      <th>name</th>\n",
              "      <th>location.lat</th>\n",
              "      <th>location.lng</th>\n",
              "      <th>location.distance</th>\n",
              "    </tr>\n",
              "  </thead>\n",
              "  <tbody>\n",
              "    <tr>\n",
              "      <th>0</th>\n",
              "      <td>4ebd3f1ab8f7b504a75f19e8</td>\n",
              "      <td>Tsukiji Sushi Sen (築地すし鮮)</td>\n",
              "      <td>35.710894</td>\n",
              "      <td>139.795000</td>\n",
              "      <td>249</td>\n",
              "    </tr>\n",
              "    <tr>\n",
              "      <th>1</th>\n",
              "      <td>533a7dad498ef2793db5c3df</td>\n",
              "      <td>野八</td>\n",
              "      <td>35.710119</td>\n",
              "      <td>139.793534</td>\n",
              "      <td>294</td>\n",
              "    </tr>\n",
              "    <tr>\n",
              "      <th>2</th>\n",
              "      <td>4dcc9fe722718eed7a0bf947</td>\n",
              "      <td>Ganso Zushi (元祖寿司)</td>\n",
              "      <td>35.710911</td>\n",
              "      <td>139.798112</td>\n",
              "      <td>257</td>\n",
              "    </tr>\n",
              "  </tbody>\n",
              "</table>\n",
              "</div>"
            ],
            "text/plain": [
              "                         id  ... location.distance\n",
              "0  4ebd3f1ab8f7b504a75f19e8  ...               249\n",
              "1  533a7dad498ef2793db5c3df  ...               294\n",
              "2  4dcc9fe722718eed7a0bf947  ...               257\n",
              "\n",
              "[3 rows x 5 columns]"
            ]
          },
          "metadata": {
            "tags": []
          },
          "execution_count": 49
        }
      ]
    },
    {
      "cell_type": "code",
      "metadata": {
        "colab": {
          "base_uri": "https://localhost:8080/",
          "height": 821
        },
        "id": "gdFJjkM1dEdI",
        "outputId": "a179e686-2157-4f7c-f5c6-732ec15074e7"
      },
      "source": [
        "venues_shin = results_shin['response']['venues']\r\n",
        "df_shin = json_normalize(venues_shin)\r\n",
        "df_shin\r\n",
        "\r\n"
      ],
      "execution_count": 45,
      "outputs": [
        {
          "output_type": "stream",
          "text": [
            "/usr/local/lib/python3.6/dist-packages/ipykernel_launcher.py:2: FutureWarning: pandas.io.json.json_normalize is deprecated, use pandas.json_normalize instead\n",
            "  \n"
          ],
          "name": "stderr"
        },
        {
          "output_type": "execute_result",
          "data": {
            "text/html": [
              "<div>\n",
              "<style scoped>\n",
              "    .dataframe tbody tr th:only-of-type {\n",
              "        vertical-align: middle;\n",
              "    }\n",
              "\n",
              "    .dataframe tbody tr th {\n",
              "        vertical-align: top;\n",
              "    }\n",
              "\n",
              "    .dataframe thead th {\n",
              "        text-align: right;\n",
              "    }\n",
              "</style>\n",
              "<table border=\"1\" class=\"dataframe\">\n",
              "  <thead>\n",
              "    <tr style=\"text-align: right;\">\n",
              "      <th></th>\n",
              "      <th>id</th>\n",
              "      <th>name</th>\n",
              "      <th>categories</th>\n",
              "      <th>referralId</th>\n",
              "      <th>hasPerk</th>\n",
              "      <th>location.address</th>\n",
              "      <th>location.crossStreet</th>\n",
              "      <th>location.lat</th>\n",
              "      <th>location.lng</th>\n",
              "      <th>location.labeledLatLngs</th>\n",
              "      <th>location.distance</th>\n",
              "      <th>location.postalCode</th>\n",
              "      <th>location.cc</th>\n",
              "      <th>location.city</th>\n",
              "      <th>location.state</th>\n",
              "      <th>location.country</th>\n",
              "      <th>location.formattedAddress</th>\n",
              "      <th>location.neighborhood</th>\n",
              "    </tr>\n",
              "  </thead>\n",
              "  <tbody>\n",
              "    <tr>\n",
              "      <th>0</th>\n",
              "      <td>5a59c8c00a464d6ac461cb5f</td>\n",
              "      <td>Sushi Kotama (すし こたま)</td>\n",
              "      <td>[{'id': '4bf58dd8d48988d1d2941735', 'name': 'S...</td>\n",
              "      <td>v-1613687386</td>\n",
              "      <td>False</td>\n",
              "      <td>新宿3-38-1</td>\n",
              "      <td>ルミネエスト新宿 8F</td>\n",
              "      <td>35.691517</td>\n",
              "      <td>139.701100</td>\n",
              "      <td>[{'label': 'display', 'lat': 35.691517, 'lng':...</td>\n",
              "      <td>91</td>\n",
              "      <td>160-0022</td>\n",
              "      <td>JP</td>\n",
              "      <td>東京</td>\n",
              "      <td>東京都</td>\n",
              "      <td>日本</td>\n",
              "      <td>[新宿3-38-1 (ルミネエスト新宿 8F), 新宿区, 東京都, 160-0022, 日本]</td>\n",
              "      <td>NaN</td>\n",
              "    </tr>\n",
              "    <tr>\n",
              "      <th>1</th>\n",
              "      <td>55fd77df498e0e3093dac5aa</td>\n",
              "      <td>Sushizanmai (すしざんまい)</td>\n",
              "      <td>[{'id': '4bf58dd8d48988d1d2941735', 'name': 'S...</td>\n",
              "      <td>v-1613687386</td>\n",
              "      <td>False</td>\n",
              "      <td>新宿3-18-4</td>\n",
              "      <td>セノビル 3F</td>\n",
              "      <td>35.692341</td>\n",
              "      <td>139.702335</td>\n",
              "      <td>[{'label': 'display', 'lat': 35.692341, 'lng':...</td>\n",
              "      <td>157</td>\n",
              "      <td>160-0022</td>\n",
              "      <td>JP</td>\n",
              "      <td>東京</td>\n",
              "      <td>東京都</td>\n",
              "      <td>日本</td>\n",
              "      <td>[新宿3-18-4 (セノビル 3F), 新宿区, 東京都, 160-0022, 日本]</td>\n",
              "      <td>NaN</td>\n",
              "    </tr>\n",
              "    <tr>\n",
              "      <th>2</th>\n",
              "      <td>511078d2e4b00d021962df2a</td>\n",
              "      <td>Oedo (回転寿司 大江戸)</td>\n",
              "      <td>[{'id': '4bf58dd8d48988d1d2941735', 'name': 'S...</td>\n",
              "      <td>v-1613687386</td>\n",
              "      <td>False</td>\n",
              "      <td>西新宿1-3-1</td>\n",
              "      <td>新宿サンフラワービル 1F</td>\n",
              "      <td>35.693418</td>\n",
              "      <td>139.698848</td>\n",
              "      <td>[{'label': 'display', 'lat': 35.69341777917584...</td>\n",
              "      <td>206</td>\n",
              "      <td>160-0023</td>\n",
              "      <td>JP</td>\n",
              "      <td>東京</td>\n",
              "      <td>東京都</td>\n",
              "      <td>日本</td>\n",
              "      <td>[西新宿1-3-1 (新宿サンフラワービル 1F), 新宿区, 東京都, 160-0023,...</td>\n",
              "      <td>NaN</td>\n",
              "    </tr>\n",
              "    <tr>\n",
              "      <th>3</th>\n",
              "      <td>5fffcb805856d95fb1f48d8a</td>\n",
              "      <td>Kura Sushi (くら寿司)</td>\n",
              "      <td>[{'id': '4bf58dd8d48988d1d2941735', 'name': 'S...</td>\n",
              "      <td>v-1613687386</td>\n",
              "      <td>False</td>\n",
              "      <td>西新宿7-1-7</td>\n",
              "      <td>新宿ダイカンプラザA館2F</td>\n",
              "      <td>35.694347</td>\n",
              "      <td>139.699036</td>\n",
              "      <td>[{'label': 'display', 'lat': 35.69434650289613...</td>\n",
              "      <td>275</td>\n",
              "      <td>160-0023</td>\n",
              "      <td>JP</td>\n",
              "      <td>東京</td>\n",
              "      <td>東京都</td>\n",
              "      <td>日本</td>\n",
              "      <td>[西新宿7-1-7 (新宿ダイカンプラザA館2F), 新宿区, 東京都, 160-0023,...</td>\n",
              "      <td>NaN</td>\n",
              "    </tr>\n",
              "    <tr>\n",
              "      <th>4</th>\n",
              "      <td>5400d137498ed107bea9a86b</td>\n",
              "      <td>Sushi Mamire (築地海鮮 すしまみれ)</td>\n",
              "      <td>[{'id': '4bf58dd8d48988d1d2941735', 'name': 'S...</td>\n",
              "      <td>v-1613687386</td>\n",
              "      <td>False</td>\n",
              "      <td>歌舞伎町1-15-5</td>\n",
              "      <td>セントラルロード ビッグレモンビル 1F</td>\n",
              "      <td>35.694148</td>\n",
              "      <td>139.701789</td>\n",
              "      <td>[{'label': 'display', 'lat': 35.69414849565829...</td>\n",
              "      <td>239</td>\n",
              "      <td>NaN</td>\n",
              "      <td>JP</td>\n",
              "      <td>東京</td>\n",
              "      <td>東京都</td>\n",
              "      <td>日本</td>\n",
              "      <td>[歌舞伎町1-15-5 (セントラルロード ビッグレモンビル 1F), 新宿区, 東京都, 日本]</td>\n",
              "      <td>NaN</td>\n",
              "    </tr>\n",
              "    <tr>\n",
              "      <th>5</th>\n",
              "      <td>556ad586498e03cd34957923</td>\n",
              "      <td>Sushi Misakimaru (すし三崎丸)</td>\n",
              "      <td>[{'id': '4bf58dd8d48988d1d2941735', 'name': 'S...</td>\n",
              "      <td>v-1613687386</td>\n",
              "      <td>False</td>\n",
              "      <td>新宿3-17-7</td>\n",
              "      <td>紀伊國屋ビル B1F</td>\n",
              "      <td>35.692222</td>\n",
              "      <td>139.702965</td>\n",
              "      <td>[{'label': 'display', 'lat': 35.69222185239619...</td>\n",
              "      <td>213</td>\n",
              "      <td>160-0022</td>\n",
              "      <td>JP</td>\n",
              "      <td>新宿区</td>\n",
              "      <td>東京都</td>\n",
              "      <td>日本</td>\n",
              "      <td>[新宿3-17-7 (紀伊國屋ビル B1F), 新宿区, 東京都, 160-0022, 日本]</td>\n",
              "      <td>新宿区, 東京, 東京都</td>\n",
              "    </tr>\n",
              "    <tr>\n",
              "      <th>6</th>\n",
              "      <td>59883ac4f5e9d71716112f71</td>\n",
              "      <td>Hokkai-Sushi Unimaru (北海寿司 うに丸)</td>\n",
              "      <td>[{'id': '4bf58dd8d48988d1d2941735', 'name': 'S...</td>\n",
              "      <td>v-1613687386</td>\n",
              "      <td>False</td>\n",
              "      <td>西新宿1</td>\n",
              "      <td>小田急エース 北館東</td>\n",
              "      <td>35.691650</td>\n",
              "      <td>139.698887</td>\n",
              "      <td>[{'label': 'display', 'lat': 35.69165002243164...</td>\n",
              "      <td>167</td>\n",
              "      <td>160-0023</td>\n",
              "      <td>JP</td>\n",
              "      <td>東京</td>\n",
              "      <td>東京都</td>\n",
              "      <td>日本</td>\n",
              "      <td>[西新宿1 (小田急エース 北館東), 新宿区, 東京都, 160-0023, 日本]</td>\n",
              "      <td>西新宿</td>\n",
              "    </tr>\n",
              "    <tr>\n",
              "      <th>7</th>\n",
              "      <td>5813ff0538fa25270e80bec2</td>\n",
              "      <td>Sushi Takewaka (すし たけわか)</td>\n",
              "      <td>[{'id': '4bf58dd8d48988d1d2941735', 'name': 'S...</td>\n",
              "      <td>v-1613687386</td>\n",
              "      <td>False</td>\n",
              "      <td>西新宿1-1-5</td>\n",
              "      <td>ルミネ新宿1 B2F</td>\n",
              "      <td>35.688891</td>\n",
              "      <td>139.698933</td>\n",
              "      <td>[{'label': 'display', 'lat': 35.68889141492929...</td>\n",
              "      <td>400</td>\n",
              "      <td>160-0023</td>\n",
              "      <td>JP</td>\n",
              "      <td>東京</td>\n",
              "      <td>東京都</td>\n",
              "      <td>日本</td>\n",
              "      <td>[西新宿1-1-5 (ルミネ新宿1 B2F), 新宿区, 東京都, 160-0023, 日本]</td>\n",
              "      <td>NaN</td>\n",
              "    </tr>\n",
              "    <tr>\n",
              "      <th>8</th>\n",
              "      <td>4c3699433849c9283569bcb1</td>\n",
              "      <td>Ougi Sushi (扇寿司)</td>\n",
              "      <td>[{'id': '4bf58dd8d48988d1d2941735', 'name': 'S...</td>\n",
              "      <td>v-1613687386</td>\n",
              "      <td>False</td>\n",
              "      <td>新宿3-21-4</td>\n",
              "      <td>NaN</td>\n",
              "      <td>35.693033</td>\n",
              "      <td>139.702145</td>\n",
              "      <td>[{'label': 'display', 'lat': 35.693033, 'lng':...</td>\n",
              "      <td>165</td>\n",
              "      <td>160-0022</td>\n",
              "      <td>JP</td>\n",
              "      <td>東京</td>\n",
              "      <td>東京都</td>\n",
              "      <td>日本</td>\n",
              "      <td>[新宿3-21-4, 新宿区, 東京都, 160-0022, 日本]</td>\n",
              "      <td>NaN</td>\n",
              "    </tr>\n",
              "    <tr>\n",
              "      <th>9</th>\n",
              "      <td>4e0f125be4cd27fc7d359179</td>\n",
              "      <td>Sakura Sushi (桜すし)</td>\n",
              "      <td>[{'id': '4bf58dd8d48988d1d2941735', 'name': 'S...</td>\n",
              "      <td>v-1613687386</td>\n",
              "      <td>False</td>\n",
              "      <td>歌舞伎町1-25-3</td>\n",
              "      <td>NaN</td>\n",
              "      <td>35.694463</td>\n",
              "      <td>139.700445</td>\n",
              "      <td>[{'label': 'display', 'lat': 35.69446322715062...</td>\n",
              "      <td>249</td>\n",
              "      <td>160-0021</td>\n",
              "      <td>JP</td>\n",
              "      <td>東京</td>\n",
              "      <td>東京都</td>\n",
              "      <td>日本</td>\n",
              "      <td>[歌舞伎町1-25-3, 新宿区, 東京都, 160-0021, 日本]</td>\n",
              "      <td>NaN</td>\n",
              "    </tr>\n",
              "  </tbody>\n",
              "</table>\n",
              "</div>"
            ],
            "text/plain": [
              "                         id  ... location.neighborhood\n",
              "0  5a59c8c00a464d6ac461cb5f  ...                   NaN\n",
              "1  55fd77df498e0e3093dac5aa  ...                   NaN\n",
              "2  511078d2e4b00d021962df2a  ...                   NaN\n",
              "3  5fffcb805856d95fb1f48d8a  ...                   NaN\n",
              "4  5400d137498ed107bea9a86b  ...                   NaN\n",
              "5  556ad586498e03cd34957923  ...          新宿区, 東京, 東京都\n",
              "6  59883ac4f5e9d71716112f71  ...                   西新宿\n",
              "7  5813ff0538fa25270e80bec2  ...                   NaN\n",
              "8  4c3699433849c9283569bcb1  ...                   NaN\n",
              "9  4e0f125be4cd27fc7d359179  ...                   NaN\n",
              "\n",
              "[10 rows x 18 columns]"
            ]
          },
          "metadata": {
            "tags": []
          },
          "execution_count": 45
        }
      ]
    },
    {
      "cell_type": "code",
      "metadata": {
        "id": "h5QRxHehdEfz"
      },
      "source": [
        "short_df_shin = df_shin.drop(columns=['categories','hasPerk','location.address','referralId','location.crossStreet','location.labeledLatLngs','location.postalCode','location.cc','location.city','location.state','location.country','location.neighborhood','location.formattedAddress'])\r\n"
      ],
      "execution_count": 50,
      "outputs": []
    },
    {
      "cell_type": "code",
      "metadata": {
        "colab": {
          "base_uri": "https://localhost:8080/",
          "height": 332
        },
        "id": "rXaoCI_VPdEv",
        "outputId": "24747b95-fcec-41c1-b16a-ee2cf56906ba"
      },
      "source": [
        "df_asa"
      ],
      "execution_count": 47,
      "outputs": [
        {
          "output_type": "execute_result",
          "data": {
            "text/html": [
              "<div>\n",
              "<style scoped>\n",
              "    .dataframe tbody tr th:only-of-type {\n",
              "        vertical-align: middle;\n",
              "    }\n",
              "\n",
              "    .dataframe tbody tr th {\n",
              "        vertical-align: top;\n",
              "    }\n",
              "\n",
              "    .dataframe thead th {\n",
              "        text-align: right;\n",
              "    }\n",
              "</style>\n",
              "<table border=\"1\" class=\"dataframe\">\n",
              "  <thead>\n",
              "    <tr style=\"text-align: right;\">\n",
              "      <th></th>\n",
              "      <th>id</th>\n",
              "      <th>name</th>\n",
              "      <th>categories</th>\n",
              "      <th>referralId</th>\n",
              "      <th>hasPerk</th>\n",
              "      <th>location.address</th>\n",
              "      <th>location.crossStreet</th>\n",
              "      <th>location.lat</th>\n",
              "      <th>location.lng</th>\n",
              "      <th>location.labeledLatLngs</th>\n",
              "      <th>location.distance</th>\n",
              "      <th>location.postalCode</th>\n",
              "      <th>location.cc</th>\n",
              "      <th>location.city</th>\n",
              "      <th>location.state</th>\n",
              "      <th>location.country</th>\n",
              "      <th>location.formattedAddress</th>\n",
              "    </tr>\n",
              "  </thead>\n",
              "  <tbody>\n",
              "    <tr>\n",
              "      <th>0</th>\n",
              "      <td>4ebd3f1ab8f7b504a75f19e8</td>\n",
              "      <td>Tsukiji Sushi Sen (築地すし鮮)</td>\n",
              "      <td>[{'id': '4bf58dd8d48988d1d2941735', 'name': 'S...</td>\n",
              "      <td>v-1613687379</td>\n",
              "      <td>False</td>\n",
              "      <td>雷門2-16-9</td>\n",
              "      <td>パゴダ浅草 1F-2F</td>\n",
              "      <td>35.710894</td>\n",
              "      <td>139.795000</td>\n",
              "      <td>[{'label': 'display', 'lat': 35.71089422199736...</td>\n",
              "      <td>249</td>\n",
              "      <td>111-0034</td>\n",
              "      <td>JP</td>\n",
              "      <td>東京</td>\n",
              "      <td>東京都</td>\n",
              "      <td>日本</td>\n",
              "      <td>[雷門2-16-9 (パゴダ浅草 1F-2F), 台東区, 東京都, 111-0034, 日本]</td>\n",
              "    </tr>\n",
              "    <tr>\n",
              "      <th>1</th>\n",
              "      <td>533a7dad498ef2793db5c3df</td>\n",
              "      <td>野八</td>\n",
              "      <td>[{'id': '4bf58dd8d48988d1d2941735', 'name': 'S...</td>\n",
              "      <td>v-1613687379</td>\n",
              "      <td>False</td>\n",
              "      <td>雷門1-3-7</td>\n",
              "      <td>NaN</td>\n",
              "      <td>35.710119</td>\n",
              "      <td>139.793534</td>\n",
              "      <td>[{'label': 'display', 'lat': 35.71011913111371...</td>\n",
              "      <td>294</td>\n",
              "      <td>111-0034</td>\n",
              "      <td>JP</td>\n",
              "      <td>東京</td>\n",
              "      <td>東京都</td>\n",
              "      <td>日本</td>\n",
              "      <td>[雷門1-3-7, 東京, 東京都, 111-0034, 日本]</td>\n",
              "    </tr>\n",
              "    <tr>\n",
              "      <th>2</th>\n",
              "      <td>4dcc9fe722718eed7a0bf947</td>\n",
              "      <td>Ganso Zushi (元祖寿司)</td>\n",
              "      <td>[{'id': '4bf58dd8d48988d1d2941735', 'name': 'S...</td>\n",
              "      <td>v-1613687379</td>\n",
              "      <td>False</td>\n",
              "      <td>花川戸1-2-3</td>\n",
              "      <td>浅草駅前</td>\n",
              "      <td>35.710911</td>\n",
              "      <td>139.798112</td>\n",
              "      <td>[{'label': 'display', 'lat': 35.710911, 'lng':...</td>\n",
              "      <td>257</td>\n",
              "      <td>111-0033</td>\n",
              "      <td>JP</td>\n",
              "      <td>台東区</td>\n",
              "      <td>東京都</td>\n",
              "      <td>日本</td>\n",
              "      <td>[花川戸1-2-3 (浅草駅前), 台東区, 東京都, 111-0033, 日本]</td>\n",
              "    </tr>\n",
              "  </tbody>\n",
              "</table>\n",
              "</div>"
            ],
            "text/plain": [
              "                         id  ...                         location.formattedAddress\n",
              "0  4ebd3f1ab8f7b504a75f19e8  ...  [雷門2-16-9 (パゴダ浅草 1F-2F), 台東区, 東京都, 111-0034, 日本]\n",
              "1  533a7dad498ef2793db5c3df  ...                  [雷門1-3-7, 東京, 東京都, 111-0034, 日本]\n",
              "2  4dcc9fe722718eed7a0bf947  ...         [花川戸1-2-3 (浅草駅前), 台東区, 東京都, 111-0033, 日本]\n",
              "\n",
              "[3 rows x 17 columns]"
            ]
          },
          "metadata": {
            "tags": []
          },
          "execution_count": 47
        }
      ]
    },
    {
      "cell_type": "code",
      "metadata": {
        "colab": {
          "base_uri": "https://localhost:8080/",
          "height": 359
        },
        "id": "xlP24NdWPdte",
        "outputId": "8e3219e5-4f61-48cc-a649-d47d263d647d"
      },
      "source": [
        "short_df_shin"
      ],
      "execution_count": 51,
      "outputs": [
        {
          "output_type": "execute_result",
          "data": {
            "text/html": [
              "<div>\n",
              "<style scoped>\n",
              "    .dataframe tbody tr th:only-of-type {\n",
              "        vertical-align: middle;\n",
              "    }\n",
              "\n",
              "    .dataframe tbody tr th {\n",
              "        vertical-align: top;\n",
              "    }\n",
              "\n",
              "    .dataframe thead th {\n",
              "        text-align: right;\n",
              "    }\n",
              "</style>\n",
              "<table border=\"1\" class=\"dataframe\">\n",
              "  <thead>\n",
              "    <tr style=\"text-align: right;\">\n",
              "      <th></th>\n",
              "      <th>id</th>\n",
              "      <th>name</th>\n",
              "      <th>location.lat</th>\n",
              "      <th>location.lng</th>\n",
              "      <th>location.distance</th>\n",
              "    </tr>\n",
              "  </thead>\n",
              "  <tbody>\n",
              "    <tr>\n",
              "      <th>0</th>\n",
              "      <td>5a59c8c00a464d6ac461cb5f</td>\n",
              "      <td>Sushi Kotama (すし こたま)</td>\n",
              "      <td>35.691517</td>\n",
              "      <td>139.701100</td>\n",
              "      <td>91</td>\n",
              "    </tr>\n",
              "    <tr>\n",
              "      <th>1</th>\n",
              "      <td>55fd77df498e0e3093dac5aa</td>\n",
              "      <td>Sushizanmai (すしざんまい)</td>\n",
              "      <td>35.692341</td>\n",
              "      <td>139.702335</td>\n",
              "      <td>157</td>\n",
              "    </tr>\n",
              "    <tr>\n",
              "      <th>2</th>\n",
              "      <td>511078d2e4b00d021962df2a</td>\n",
              "      <td>Oedo (回転寿司 大江戸)</td>\n",
              "      <td>35.693418</td>\n",
              "      <td>139.698848</td>\n",
              "      <td>206</td>\n",
              "    </tr>\n",
              "    <tr>\n",
              "      <th>3</th>\n",
              "      <td>5fffcb805856d95fb1f48d8a</td>\n",
              "      <td>Kura Sushi (くら寿司)</td>\n",
              "      <td>35.694347</td>\n",
              "      <td>139.699036</td>\n",
              "      <td>275</td>\n",
              "    </tr>\n",
              "    <tr>\n",
              "      <th>4</th>\n",
              "      <td>5400d137498ed107bea9a86b</td>\n",
              "      <td>Sushi Mamire (築地海鮮 すしまみれ)</td>\n",
              "      <td>35.694148</td>\n",
              "      <td>139.701789</td>\n",
              "      <td>239</td>\n",
              "    </tr>\n",
              "    <tr>\n",
              "      <th>5</th>\n",
              "      <td>556ad586498e03cd34957923</td>\n",
              "      <td>Sushi Misakimaru (すし三崎丸)</td>\n",
              "      <td>35.692222</td>\n",
              "      <td>139.702965</td>\n",
              "      <td>213</td>\n",
              "    </tr>\n",
              "    <tr>\n",
              "      <th>6</th>\n",
              "      <td>59883ac4f5e9d71716112f71</td>\n",
              "      <td>Hokkai-Sushi Unimaru (北海寿司 うに丸)</td>\n",
              "      <td>35.691650</td>\n",
              "      <td>139.698887</td>\n",
              "      <td>167</td>\n",
              "    </tr>\n",
              "    <tr>\n",
              "      <th>7</th>\n",
              "      <td>5813ff0538fa25270e80bec2</td>\n",
              "      <td>Sushi Takewaka (すし たけわか)</td>\n",
              "      <td>35.688891</td>\n",
              "      <td>139.698933</td>\n",
              "      <td>400</td>\n",
              "    </tr>\n",
              "    <tr>\n",
              "      <th>8</th>\n",
              "      <td>4c3699433849c9283569bcb1</td>\n",
              "      <td>Ougi Sushi (扇寿司)</td>\n",
              "      <td>35.693033</td>\n",
              "      <td>139.702145</td>\n",
              "      <td>165</td>\n",
              "    </tr>\n",
              "    <tr>\n",
              "      <th>9</th>\n",
              "      <td>4e0f125be4cd27fc7d359179</td>\n",
              "      <td>Sakura Sushi (桜すし)</td>\n",
              "      <td>35.694463</td>\n",
              "      <td>139.700445</td>\n",
              "      <td>249</td>\n",
              "    </tr>\n",
              "  </tbody>\n",
              "</table>\n",
              "</div>"
            ],
            "text/plain": [
              "                         id  ... location.distance\n",
              "0  5a59c8c00a464d6ac461cb5f  ...                91\n",
              "1  55fd77df498e0e3093dac5aa  ...               157\n",
              "2  511078d2e4b00d021962df2a  ...               206\n",
              "3  5fffcb805856d95fb1f48d8a  ...               275\n",
              "4  5400d137498ed107bea9a86b  ...               239\n",
              "5  556ad586498e03cd34957923  ...               213\n",
              "6  59883ac4f5e9d71716112f71  ...               167\n",
              "7  5813ff0538fa25270e80bec2  ...               400\n",
              "8  4c3699433849c9283569bcb1  ...               165\n",
              "9  4e0f125be4cd27fc7d359179  ...               249\n",
              "\n",
              "[10 rows x 5 columns]"
            ]
          },
          "metadata": {
            "tags": []
          },
          "execution_count": 51
        }
      ]
    },
    {
      "cell_type": "code",
      "metadata": {
        "id": "2Df-lcR9Pd-S"
      },
      "source": [
        ""
      ],
      "execution_count": null,
      "outputs": []
    }
  ]
}